{
 "cells": [
  {
   "cell_type": "code",
   "execution_count": 1,
   "metadata": {
    "collapsed": true,
    "hideCode": false,
    "hideOutput": false,
    "hidePrompt": false
   },
   "outputs": [],
   "source": [
    "from xml.etree.ElementTree import Element, SubElement, Comment, tostring\n",
    "from xml.etree import ElementTree\n",
    "from xml.dom import minidom\n",
    "import pandas as pd\n",
    "from PIL import Image\n",
    "import shutil\n",
    "def prettify(elem):\n",
    "    \"\"\"Return a pretty-printed XML string for the Element.\n",
    "    \"\"\"\n",
    "    rough_string = ElementTree.tostring(elem, 'utf-8')\n",
    "    reparsed = minidom.parseString(rough_string)\n",
    "    return reparsed.toprettyxml(indent=\"  \")"
   ]
  },
  {
   "cell_type": "code",
   "execution_count": 2,
   "metadata": {
    "collapsed": true,
    "hideCode": false,
    "hideOutput": false
   },
   "outputs": [],
   "source": [
    "annotation_data = pd.read_csv(\"fileList.csv\")"
   ]
  },
  {
   "cell_type": "code",
   "execution_count": 3,
   "metadata": {
    "collapsed": false
   },
   "outputs": [
    {
     "data": {
      "text/plain": [
       "File          2451\n",
       "fileName      2451\n",
       "ObjectName    2451\n",
       "xmin          2451\n",
       "ymin          2451\n",
       "xmax          2451\n",
       "ymax          2451\n",
       "dtype: int64"
      ]
     },
     "execution_count": 3,
     "metadata": {},
     "output_type": "execute_result"
    }
   ],
   "source": [
    "annotation_data.count()"
   ]
  },
  {
   "cell_type": "code",
   "execution_count": 7,
   "metadata": {
    "collapsed": false
   },
   "outputs": [
    {
     "name": "stderr",
     "output_type": "stream",
     "text": [
      "C:\\Users\\Admin\\Anaconda2\\lib\\site-packages\\pandas\\core\\indexing.py:179: SettingWithCopyWarning: \n",
      "A value is trying to be set on a copy of a slice from a DataFrame\n",
      "\n",
      "See the caveats in the documentation: http://pandas.pydata.org/pandas-docs/stable/indexing.html#indexing-view-versus-copy\n",
      "  self._setitem_with_indexer(indexer, value)\n"
     ]
    }
   ],
   "source": [
    "for i in range(len(annotation_data)):\n",
    "    nameList = annotation_data.fileName.iloc[i].split(\"_\")\n",
    "    if len(nameList) >2:\n",
    "        #newName =  annotation_data.ObjectName.iloc[i] + \"_\" + annotation_data.fileName.iloc[i]\n",
    "        newName = nameList[0].replace(\"-\",\"_\") + \"_\" + nameList[2]\n",
    "        shutil.copy2('all_images/'+annotation_data.fileName.iloc[i], 'images/'+newName)\n",
    "        annotation_data.loc[i,'fileName'] = newName\n",
    "    else:\n",
    "        shutil.copy2('all_images/'+annotation_data.fileName.iloc[i], 'images/'+annotation_data.fileName.iloc[i])\n",
    "    \n",
    "#annotation_data.fileName = annotation_data.ObjectName + \"_\" + annotation_data.fileName"
   ]
  },
  {
   "cell_type": "markdown",
   "metadata": {
    "hideCode": false,
    "hideOutput": false,
    "hidePrompt": false
   },
   "source": [
    "## Create Annotation XML files for each image with bounding boxes"
   ]
  },
  {
   "cell_type": "code",
   "execution_count": 8,
   "metadata": {
    "collapsed": false,
    "hideCode": false
   },
   "outputs": [
    {
     "name": "stdout",
     "output_type": "stream",
     "text": [
      "Done\n"
     ]
    }
   ],
   "source": [
    "for fName in annotation_data.fileName.unique():\n",
    "    image_dataset = annotation_data[annotation_data['fileName']==fName]\n",
    "    #print image_dataset\n",
    "    im=Image.open('images/'+fName)\n",
    "     # (width,height) tuple\n",
    "\n",
    "    top = Element('annotation')\n",
    "    folder = SubElement(top, 'folder')\n",
    "    folder.text = 'BelgaLogos'\n",
    "    filename = SubElement(top, 'filename')\n",
    "    filename.text = fName\n",
    "\n",
    "    source = SubElement(top, 'source')\n",
    "    database = SubElement(source, 'database')\n",
    "    database.text = \"BelgaLogos database\"\n",
    "\n",
    "    annotation = SubElement(source,'annotation')\n",
    "    annotation.text =  \"BelgaLogos database\"\n",
    "\n",
    "    image = SubElement(source,'image')\n",
    "    image.text = 'BelgaLogos'\n",
    "\n",
    "    size = SubElement(top,'size')\n",
    "    width = SubElement(size,'width')\n",
    "    width.text = str(im.size[0])\n",
    "    height = SubElement(size,'height')\n",
    "    height.text = str(im.size[1])\n",
    "    depth = SubElement(size,'depth')\n",
    "    depth.text = '3'\n",
    "\n",
    "    segmented =SubElement(top,'segmented')\n",
    "    segmented.text = '1'\n",
    "\n",
    "    for i in range(len(image_dataset)):\n",
    "        y = image_dataset.iloc[i]\n",
    "\n",
    "        object = SubElement(top,'object')\n",
    "\n",
    "        name =SubElement(object,'name')\n",
    "        name.text = y.ObjectName\n",
    "        pose = SubElement(object,'pose')\n",
    "        pose.text = 'pose'\n",
    "        truncated = SubElement(object,'truncated')\n",
    "        truncated.text= '0'\n",
    "        difficult =SubElement(object,'difficult')\n",
    "        difficult.text = '0'\n",
    "\n",
    "        bndbox = SubElement(object,'bndbox')\n",
    "        xmin = SubElement(bndbox,'xmin')\n",
    "        xmin.text = str(y.xmin)\n",
    "        ymin = SubElement(bndbox,'ymin')\n",
    "        ymin.text = str(y.ymin)\n",
    "        xmax = SubElement(bndbox,'xmax')\n",
    "        xmax.text = str(y.xmax)\n",
    "        ymax = SubElement(bndbox,'ymax')\n",
    "        ymax.text = str(y.ymax)\n",
    "\n",
    "\n",
    "    #print prettify(top)\n",
    "\n",
    "    f = open('annotations/xmls/'+fName.split(\".\")[0]+'.xml', 'w')\n",
    "    f.write(tostring(top))  # python will convert \\n to os.linesep\n",
    "    f.close()\n",
    "    \n",
    "print \"Done\""
   ]
  },
  {
   "cell_type": "code",
   "execution_count": 20,
   "metadata": {},
   "outputs": [],
   "source": [
    "import glob\n",
    "import pandas as pd\n",
    "files = glob.glob(\"E:\\\\Object Detection\\\\Coke\\\\images\\\\*\")\n",
    "annotation_data = pd.DataFrame(files,columns=['fileName'])\n",
    "annotation_data.fileName = annotation_data.fileName.apply(lambda x: x.split(\"\\\\\")[-1].split(\".\")[0])\n",
    "annotation_data['ObjectName'] = 'CocaCola'\n"
   ]
  },
  {
   "cell_type": "markdown",
   "metadata": {},
   "source": [
    "## Create List Train and Val.txt files"
   ]
  },
  {
   "cell_type": "code",
   "execution_count": 23,
   "metadata": {
    "collapsed": false,
    "hideCode": false
   },
   "outputs": [],
   "source": [
    "objects = list(annotation_data.ObjectName.unique())\n",
    "annotation_data_new = annotation_data.copy()\n",
    "annotation_data_new.fileName = annotation_data.fileName.apply(lambda x: x.split(\".\")[0])\n",
    "annotation_data_new.ObjectName = annotation_data.ObjectName.apply(lambda x: objects.index(x)+1)\n",
    "#annotation_data_new= annotation_data_new.drop(['xmin','ymin','xmax','ymax'], axis=1)\n",
    "#annotation_data_new= annotation_data_new.drop(['File','xmin','ymin','xmax','ymax'], axis=1)\n",
    "\n",
    "annotation_data_new.to_csv('annotations/list.txt',sep=' ',header=None,index=None)\n",
    "\n",
    "train = pd.DataFrame(columns=['fileName','ObjectName'])\n",
    "test = pd.DataFrame(columns=['fileName','ObjectName'])\n",
    "for i in range(len(objects)+1):\n",
    "    train = train.append(annotation_data_new[annotation_data_new['ObjectName']==i].iloc[50:,])\n",
    "    test = test.append(annotation_data_new[annotation_data_new['ObjectName']==i].iloc[:50,])\n",
    "    \n",
    "train.ObjectName = train.ObjectName.astype(int)\n",
    "test.ObjectName = test.ObjectName.astype(int)\n",
    "\n",
    "train.to_csv('annotations/trainval.txt',sep=' ',header=None,index=None)\n",
    "test.to_csv('annotations/test.txt',sep=' ',header=None,index=None)"
   ]
  }
 ],
 "metadata": {
  "kernelspec": {
   "display_name": "Python 3",
   "language": "python",
   "name": "python3"
  },
  "language_info": {
   "codemirror_mode": {
    "name": "ipython",
    "version": 3
   },
   "file_extension": ".py",
   "mimetype": "text/x-python",
   "name": "python",
   "nbconvert_exporter": "python",
   "pygments_lexer": "ipython3",
   "version": "3.7.1"
  }
 },
 "nbformat": 4,
 "nbformat_minor": 2
}
